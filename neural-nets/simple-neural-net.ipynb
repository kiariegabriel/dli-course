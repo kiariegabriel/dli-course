{
 "cells": [
  {
   "attachments": {},
   "cell_type": "markdown",
   "id": "flush-aircraft",
   "metadata": {},
   "source": [
    "# Intro to Neural Nets\n",
    "In this notbook, we will try and create a neural net from scratch for the model shown below:\n",
    "![simple neural net model](neural-net1.png)"
   ]
  },
  {
   "cell_type": "code",
   "execution_count": null,
   "id": "hungarian-cambridge",
   "metadata": {},
   "outputs": [],
   "source": [
    "import numpy as np"
   ]
  },
  {
   "cell_type": "markdown",
   "id": "japanese-airport",
   "metadata": {},
   "source": [
    "## Parameters\n"
   ]
  },
  {
   "cell_type": "code",
   "execution_count": null,
   "id": "sweet-cabin",
   "metadata": {},
   "outputs": [],
   "source": [
    "x = np.array([0.5, 0.9, -0.3])\n",
    "hidden_layer_weights = np.array([[1.0, -2.0, 2.0], [2.0, 1.0, -4.0], [1.0, -1.0, 0]])\n",
    "output_layer_weights = np.array([[-3, -1, -3], [0, 1, 2]])"
   ]
  },
  {
   "cell_type": "markdown",
   "id": "expired-landscape",
   "metadata": {},
   "source": [
    "## Implementation of the model"
   ]
  },
  {
   "cell_type": "code",
   "execution_count": null,
   "id": "designing-cornwall",
   "metadata": {},
   "outputs": [],
   "source": [
    "hidden_layer_output1 = np.around(((1 + np.exp(-np.dot(hidden_layer_weights, x.T)))**-1), 2)\n",
    "\n",
    "output_layer_output1 = np.around(((1 + np.exp(-np.dot(output_layer_weights, hidden_layer_output1.T)))**-1), 2)\n",
    "\n",
    "output_layer_output1"
   ]
  },
  {
   "cell_type": "markdown",
   "id": "prompt-costa",
   "metadata": {},
   "source": [
    "## Implementation using functions\n",
    "In the cell that follows, we implement the neural net model using functions"
   ]
  },
  {
   "cell_type": "code",
   "execution_count": null,
   "id": "valid-republican",
   "metadata": {},
   "outputs": [],
   "source": [
    "def sigmoid(x):\n",
    "    \n",
    "    y = (1 + np.exp(-x))**-1\n",
    "    \n",
    "    return y\n",
    "\n",
    "def hidden_layer(weights, inputs):\n",
    "    \n",
    "    output = np.around(sigmoid(np.dot(weights, inputs.T)), 2)\n",
    "    \n",
    "    return output\n",
    "\n",
    "def output_layer(weights, inputs):\n",
    "    \n",
    "    output = np.around(sigmoid(np.dot(weights, inputs.T)), 2)\n",
    "    \n",
    "    return output\n",
    "\n",
    "def execute(hidden_layer_weights, input_data, output_layer_weights):\n",
    "    \n",
    "    hidden_layer_output = hidden_layer(hidden_layer_weights, input_data)\n",
    "    \n",
    "    output_layer_output = output_layer(output_layer_weights, hidden_layer_output)\n",
    "    \n",
    "    return output_layer_output\n",
    "\n",
    "print(execute(hidden_layer_weights, x, output_layer_weights))"
   ]
  },
  {
   "cell_type": "code",
   "execution_count": null,
   "id": "theoretical-translator",
   "metadata": {},
   "outputs": [],
   "source": []
  }
 ],
 "metadata": {
  "kernelspec": {
   "display_name": "Python 3",
   "language": "python",
   "name": "python3"
  },
  "language_info": {
   "codemirror_mode": {
    "name": "ipython",
    "version": 3
   },
   "file_extension": ".py",
   "mimetype": "text/x-python",
   "name": "python",
   "nbconvert_exporter": "python",
   "pygments_lexer": "ipython3",
   "version": "3.8.7"
  }
 },
 "nbformat": 4,
 "nbformat_minor": 5
}
